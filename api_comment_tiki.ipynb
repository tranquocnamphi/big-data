{
  "cells": [
    {
      "cell_type": "code",
      "execution_count": null,
      "metadata": {
        "colab": {
          "base_uri": "https://localhost:8080/"
        },
        "id": "EYtJP5WQo68g",
        "outputId": "e464a383-0df6-46a1-8570-77f8237fb641"
      },
      "outputs": [
        {
          "name": "stdout",
          "output_type": "stream",
          "text": [
            "Requirement already satisfied: pandas in /usr/local/lib/python3.10/dist-packages (1.5.3)\n",
            "Requirement already satisfied: python-dateutil>=2.8.1 in /usr/local/lib/python3.10/dist-packages (from pandas) (2.8.2)\n",
            "Requirement already satisfied: pytz>=2020.1 in /usr/local/lib/python3.10/dist-packages (from pandas) (2023.3.post1)\n",
            "Requirement already satisfied: numpy>=1.21.0 in /usr/local/lib/python3.10/dist-packages (from pandas) (1.23.5)\n",
            "Requirement already satisfied: six>=1.5 in /usr/local/lib/python3.10/dist-packages (from python-dateutil>=2.8.1->pandas) (1.16.0)\n"
          ]
        }
      ],
      "source": [
        "!pip install pandas"
      ]
    },
    {
      "cell_type": "code",
      "execution_count": null,
      "metadata": {
        "id": "98VS7On0pFu_"
      },
      "outputs": [],
      "source": [
        "import requests\n",
        "import math\n",
        "\n",
        "headers = {\n",
        "    'User-Agent': 'Mozilla/5.0 (Windows NT 10.0; Win64; x64) AppleWebKit/537.36 (KHTML, like Gecko) Chrome/91.0.4472.124 Safari/537.36'\n",
        "}"
      ]
    },
    {
      "cell_type": "code",
      "execution_count": null,
      "metadata": {
        "id": "dJaMVpE9o-19"
      },
      "outputs": [],
      "source": [
        "def get_count_comments(product_id, spid):\n",
        "  product_id = product_id\n",
        "  url = \"https://tiki.vn/api/v2/reviews\"\n",
        "  params = {\n",
        "      'limit': 20,\n",
        "      'include': 'comments,contribute_info,attribute_vote_summary',\n",
        "      'sort': 'score|desc,id|desc,stars|all',\n",
        "      'page': 1,\n",
        "      'spid': spid,\n",
        "      'product_id': product_id,\n",
        "      'seller_id': 1\n",
        "  }\n",
        "  response = requests.get(url, params=params, headers=headers)\n",
        "\n",
        "  if response.status_code == 200:\n",
        "      item = response.json()\n",
        "      return item['reviews_count']\n",
        "  else:\n",
        "    print(\"Failed to retrieve data. Status code:\", response.status_code)\n",
        "\n",
        "def get_comment_follow_page(page, product_id, spid):\n",
        "  url = \"https://tiki.vn/api/v2/reviews\"\n",
        "  params = {\n",
        "      'limit': 20,\n",
        "      'include': 'comments,contribute_info,attribute_vote_summary',\n",
        "      'sort': 'score|desc,id|desc,stars|all',\n",
        "      'page': page,\n",
        "      'spid': spid,\n",
        "      'product_id': product_id,\n",
        "      'seller_id': 1\n",
        "  }\n",
        "\n",
        "  response = requests.get(url, params=params, headers=headers)\n",
        "\n",
        "  if response.status_code == 200:\n",
        "      data = response.json()\n",
        "\n",
        "      all_comments = data['data']\n",
        "      for item in all_comments:\n",
        "        comment_item = []\n",
        "        if isinstance(item, dict) and 'rating' in item and 'content' in item:\n",
        "          if item['rating'] <= 4 and item['content'] != \"\":\n",
        "              comment_item = [item['content'], item['rating']]\n",
        "              # print(comment_item)\n",
        "              api_comments.append(comment_item)\n",
        "\n",
        "  else:\n",
        "      print(\"Failed to retrieve data. Status code:\", response.status_code)\n",
        "\n",
        "def get_all_comments(product_id, spid):\n",
        "\n",
        "  total_page = math.ceil(get_count_comments(product_id, spid)/20)\n",
        "  for page_number in range(1, total_page + 1):\n",
        "    # print(page_number)\n",
        "    get_comment_follow_page(page_number, product_id, spid)\n",
        "\n",
        "# get_comments(1, 42230121, 42230122)\n",
        "# get_all_comments(175953065, 175953078)\n",
        "\n",
        "# print(api_comments)"
      ]
    },
    {
      "cell_type": "code",
      "execution_count": null,
      "metadata": {
        "id": "-YXGIOnerskc"
      },
      "outputs": [],
      "source": [
        "api_comments = []"
      ]
    },
    {
      "cell_type": "code",
      "execution_count": null,
      "metadata": {
        "colab": {
          "base_uri": "https://localhost:8080/"
        },
        "id": "OcKbCO2t8Y4Q",
        "outputId": "8e11ba41-a59a-40ff-eec8-a371109e9e0f"
      },
      "outputs": [
        {
          "output_type": "stream",
          "name": "stdout",
          "text": [
            "0\n"
          ]
        }
      ],
      "source": [
        "print(len(api_comments))"
      ]
    },
    {
      "cell_type": "code",
      "execution_count": null,
      "metadata": {
        "colab": {
          "base_uri": "https://localhost:8080/"
        },
        "id": "4iJmXhe8rXAV",
        "outputId": "fb62db95-60de-496c-998c-e90e4b432cd8"
      },
      "outputs": [
        {
          "output_type": "execute_result",
          "data": {
            "text/plain": [
              "(212, 11)"
            ]
          },
          "metadata": {},
          "execution_count": 7
        }
      ],
      "source": [
        "import pandas as pd\n",
        "df_data = pd.read_csv('/content/file_without_duplicates.csv')\n",
        "df_data.shape"
      ]
    },
    {
      "cell_type": "code",
      "execution_count": null,
      "metadata": {
        "colab": {
          "base_uri": "https://localhost:8080/"
        },
        "id": "bC36-FUerUJW",
        "outputId": "b2555ea4-c7fe-4160-de09-d59a4570a0c2"
      },
      "outputs": [
        {
          "output_type": "stream",
          "name": "stdout",
          "text": [
            "48\n",
            "49\n",
            "50\n",
            "51\n",
            "52\n",
            "53\n",
            "54\n",
            "55\n",
            "56\n",
            "57\n",
            "58\n",
            "59\n",
            "60\n",
            "61\n",
            "62\n",
            "63\n",
            "64\n",
            "65\n",
            "66\n",
            "67\n",
            "68\n",
            "69\n",
            "70\n",
            "71\n",
            "72\n",
            "73\n",
            "74\n",
            "75\n",
            "76\n",
            "77\n",
            "78\n",
            "79\n",
            "80\n",
            "81\n",
            "82\n",
            "83\n",
            "84\n",
            "85\n",
            "86\n",
            "87\n",
            "88\n",
            "89\n",
            "90\n",
            "91\n",
            "92\n",
            "93\n",
            "94\n",
            "95\n",
            "96\n",
            "97\n",
            "98\n",
            "99\n",
            "100\n",
            "101\n",
            "102\n",
            "103\n",
            "104\n",
            "105\n",
            "106\n",
            "107\n",
            "108\n",
            "109\n",
            "110\n",
            "111\n",
            "112\n",
            "113\n",
            "114\n",
            "115\n",
            "116\n",
            "117\n",
            "118\n",
            "119\n",
            "120\n",
            "121\n",
            "122\n",
            "123\n",
            "124\n",
            "125\n",
            "126\n",
            "127\n",
            "128\n",
            "129\n",
            "130\n",
            "131\n",
            "132\n",
            "133\n",
            "134\n",
            "135\n",
            "136\n",
            "137\n",
            "138\n",
            "139\n",
            "140\n",
            "141\n",
            "142\n",
            "143\n",
            "144\n",
            "145\n",
            "146\n",
            "147\n",
            "148\n",
            "149\n",
            "150\n",
            "151\n",
            "152\n",
            "153\n",
            "154\n",
            "155\n",
            "156\n",
            "157\n",
            "158\n",
            "159\n",
            "160\n",
            "161\n",
            "162\n",
            "163\n",
            "164\n",
            "165\n",
            "166\n",
            "167\n",
            "168\n",
            "169\n",
            "170\n",
            "171\n",
            "172\n",
            "173\n",
            "174\n",
            "175\n",
            "176\n",
            "177\n",
            "178\n",
            "179\n",
            "180\n",
            "181\n",
            "182\n",
            "183\n",
            "184\n",
            "185\n",
            "186\n",
            "187\n",
            "188\n",
            "189\n",
            "190\n",
            "191\n",
            "192\n",
            "193\n",
            "194\n",
            "195\n",
            "196\n",
            "197\n",
            "198\n",
            "199\n",
            "200\n",
            "201\n",
            "202\n",
            "203\n",
            "204\n",
            "205\n",
            "206\n",
            "207\n",
            "208\n",
            "209\n",
            "210\n",
            "211\n"
          ]
        }
      ],
      "source": [
        "# for index in range(0, len(df_data)):\n",
        "for index in range(48, len(df_data)):\n",
        "    # Lấy dữ liệu từ mỗi hàng\n",
        "    print(index)\n",
        "    row = df_data.iloc[index]\n",
        "    # Làm cái gì đó với dữ liệu trong mỗi hàng\n",
        "    # print(row['product_id'])\n",
        "    get_all_comments(row['product_id'], row['spid'])"
      ]
    },
    {
      "cell_type": "code",
      "execution_count": null,
      "metadata": {
        "colab": {
          "base_uri": "https://localhost:8080/"
        },
        "id": "tNp4tWJGHilY",
        "outputId": "eea44d04-1053-48a5-9ee6-12a9a457dffb"
      },
      "outputs": [
        {
          "output_type": "stream",
          "name": "stdout",
          "text": [
            "Đã lưu dữ liệu vào tệp comment-item.csv\n"
          ]
        }
      ],
      "source": [
        "## lấy file products ra\n",
        "import csv\n",
        "\n",
        "# Nhãn cho các trường\n",
        "field_labels = [\"comment\", \"rating\"]\n",
        "\n",
        "\n",
        "# Tên của tệp CSV bạn muốn tạo\n",
        "csv_file_path = \"comment-item.csv\"\n",
        "\n",
        "# Mở tệp CSV để ghi\n",
        "with open(csv_file_path, mode=\"w\", newline=\"\", encoding=\"utf-8\") as csv_file:\n",
        "    # Tạo đối tượng CSV writer\n",
        "    writer = csv.writer(csv_file)\n",
        "\n",
        "    # Viết dòng tiêu đề chứa nhãn của các trường\n",
        "    writer.writerow(field_labels)\n",
        "\n",
        "    # Viết dữ liệu vào tệp\n",
        "    writer.writerows(api_comments)\n",
        "\n",
        "print(f\"Đã lưu dữ liệu vào tệp {csv_file_path}\")"
      ]
    },
    {
      "cell_type": "code",
      "execution_count": null,
      "metadata": {
        "id": "zUEqbcMyIxFk"
      },
      "outputs": [],
      "source": [
        "import pandas as pd\n",
        "\n",
        "# Đọc hai file CSV vào DataFrame\n",
        "df1 = pd.read_csv('/content/merged_file_rating.csv')\n",
        "df2 = pd.read_csv('/content/thiet-bi-kts-phu-kien-so.csv')\n",
        "\n",
        "# Merge theo trường 'id' chỉ lấy các dòng có giá trị 'id' trùng nhau\n",
        "merged_df = pd.merge(df1, df2, left_on='id', right_on='product_id', how='inner')\n",
        "\n",
        "# In ra DataFrame sau khi được merge\n",
        "\n",
        "filtered_df = merged_df[merged_df['n_reviews'] > 0]\n",
        "filtered_df\n",
        "\n",
        "# Lưu DataFrame đã merge vào một file CSV mới (nếu cần)\n",
        "filtered_df.to_csv('result.csv', index=False)\n"
      ]
    },
    {
      "cell_type": "code",
      "execution_count": null,
      "metadata": {
        "colab": {
          "base_uri": "https://localhost:8080/"
        },
        "id": "C1mhdVwOR6fF",
        "outputId": "0acd13f5-a2e0-4f14-c691-f276b4b671dd"
      },
      "outputs": [
        {
          "output_type": "stream",
          "name": "stdout",
          "text": [
            "            id  avg_rating  n_reviews  n_rate_5  n_rate_4  n_rate_3  n_rate_2  \\\n",
            "0     10198980         4.8        609       540        49         5         4   \n",
            "4    123836523         4.9       3049      2841       162        13         4   \n",
            "5      4312979         4.8       1592      1363       174        12        16   \n",
            "6    176899932         4.9        663       608        38         4         3   \n",
            "7       299461         4.7       4732      3948       525       120        56   \n",
            "..         ...         ...        ...       ...       ...       ...       ...   \n",
            "210    7230103         4.5         38        27         6         2         2   \n",
            "211    6076977         4.8         54        45         7         1         0   \n",
            "212  145495427         4.9        317       290        23         1         1   \n",
            "213    2034095         4.5         90        73         8         1         0   \n",
            "214    6006517         4.8         60        49         9         1         0   \n",
            "\n",
            "     n_rate_1  rate_with_img  product_id       spid  \n",
            "0          11            101    10198980  229700784  \n",
            "4          29            446   123836523   71523845  \n",
            "5          27            191     4312979    4312981  \n",
            "6          10            130   176899932  160666428  \n",
            "7          83            628      299461   19759193  \n",
            "..        ...            ...         ...        ...  \n",
            "210         1              2     7230103    7230111  \n",
            "211         1              6     6076977   24823763  \n",
            "212         2             50   145495427  174361268  \n",
            "213         8             11     2034095    2052433  \n",
            "214         1              7     6006517    6006519  \n",
            "\n",
            "[212 rows x 11 columns]\n"
          ]
        }
      ],
      "source": [
        "import pandas as pd\n",
        "\n",
        "# Đọc file CSV vào DataFrame\n",
        "file_path = '/content/result.csv'\n",
        "df = pd.read_csv(file_path)\n",
        "\n",
        "# Loại bỏ các hàng trùng lặp dựa trên tất cả các cột\n",
        "df_unique_product_id = df.drop_duplicates(subset='product_id')\n",
        "\n",
        "# In ra DataFrame sau khi loại bỏ các hàng trùng lặp\n",
        "print(df_unique_product_id)\n",
        "\n",
        "# Lưu DataFrame đã loại bỏ các hàng trùng lặp vào một file CSV mới (nếu cần)\n",
        "df_unique_product_id.to_csv('file_without_duplicates.csv', index=False)\n"
      ]
    },
    {
      "cell_type": "code",
      "source": [
        "file_paths = [\n",
        "    '/content/comment-1.csv',\n",
        "    '/content/comment-2.csv',\n",
        "    '/content/comment-3.csv',\n",
        "    '/content/comment-4.csv',\n",
        "    '/content/comment-5.csv',\n",
        "    '/content/comment-6.csv',\n",
        "    '/content/comment-7.csv',\n",
        "    '/content/comment-8.csv',\n",
        "    '/content/comment-9.csv',\n",
        "    '/content/comment-10.csv',\n",
        "    '/content/comment-11.csv',\n",
        "    '/content/comment-12.csv',\n",
        "    '/content/comment-13.csv',\n",
        "    '/content/comment-14.csv',\n",
        "    '/content/comment-15.csv',\n",
        "    '/content/comment-16.csv',\n",
        "    '/content/comment-17.csv',\n",
        "    '/content/comment-18.csv',\n",
        "]\n",
        "\n",
        "merged_data = pd.DataFrame()\n",
        "\n",
        "for file_path in file_paths:\n",
        "    # Đọc dữ liệu từ file CSV\n",
        "    data = pd.read_csv(file_path)\n",
        "\n",
        "    # Ghép dữ liệu vào DataFrame chung\n",
        "    merged_data = pd.concat([merged_data, data], ignore_index=True)\n",
        "\n",
        "merged_data.to_csv('/content/merged_data.csv', index=False)\n",
        "\n",
        "print(\"Ghép dữ liệu thành công!\")"
      ],
      "metadata": {
        "colab": {
          "base_uri": "https://localhost:8080/"
        },
        "id": "bRqkPU7Wu10h",
        "outputId": "a10cf441-e085-444e-8de3-eeadbf3ba893"
      },
      "execution_count": null,
      "outputs": [
        {
          "output_type": "stream",
          "name": "stdout",
          "text": [
            "Ghép dữ liệu thành công!\n"
          ]
        }
      ]
    }
  ],
  "metadata": {
    "colab": {
      "provenance": []
    },
    "kernelspec": {
      "display_name": "Python 3",
      "name": "python3"
    },
    "language_info": {
      "name": "python"
    }
  },
  "nbformat": 4,
  "nbformat_minor": 0
}