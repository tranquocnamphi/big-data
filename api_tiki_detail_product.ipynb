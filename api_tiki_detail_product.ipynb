{
  "cells": [
    {
      "cell_type": "code",
      "execution_count": null,
      "metadata": {
        "colab": {
          "base_uri": "https://localhost:8080/"
        },
        "id": "2xoXVbGG7jNx",
        "outputId": "9219bffa-59dd-4612-dcc7-7eef584d8253"
      },
      "outputs": [
        {
          "name": "stdout",
          "output_type": "stream",
          "text": [
            "1\n",
            "2\n",
            "3\n",
            "4\n",
            "5\n",
            "6\n",
            "7\n",
            "8\n",
            "9\n",
            "10\n",
            "11\n",
            "12\n",
            "13\n",
            "14\n",
            "15\n",
            "16\n",
            "17\n",
            "18\n",
            "19\n",
            "20\n",
            "21\n",
            "22\n",
            "23\n",
            "24\n"
          ]
        }
      ],
      "source": [
        "import requests\n",
        "import csv\n",
        "\n",
        "url = \"https://tiki.vn/api/personalish/v1/blocks/listings\"\n",
        "\n",
        "headers = {\n",
        "    'User-Agent': 'Mozilla/5.0 (Windows NT 10.0; Win64; x64) AppleWebKit/537.36 (KHTML, like Gecko) Chrome/91.0.4472.124 Safari/537.36'\n",
        "}\n",
        "\n",
        "def crawl_id_datas(page_number):\n",
        "  params = {\n",
        "      'limit': 40,\n",
        "      'include': 'advertisement',\n",
        "      'aggregations': 2,\n",
        "      'version': 'home-persionalized',\n",
        "      'trackity_id': '2c13bd75-cab1-7f33-9893-5767063c8aa6',\n",
        "      'category': 1789,\n",
        "      'page': page_number,\n",
        "      'urlKey': 'dien-thoai-may-tinh-bang'\n",
        "  }\n",
        "\n",
        "  response = requests.get(url, params=params, headers=headers)\n",
        "\n",
        "  if response.status_code == 200:\n",
        "      datas = response.json()\n",
        "      # Now 'data' contains the JSON response from the API\n",
        "      all_data = datas['data']\n",
        "\n",
        "      csv_file_path = f'output_data{page_number}.csv'\n",
        "\n",
        "      # Extract relevant information (product_id and spid) from the JSON response and write to CSV\n",
        "      with open(csv_file_path, 'w', newline='', encoding='utf-8') as csv_file:\n",
        "          csv_writer = csv.writer(csv_file) \n",
        "\n",
        "          # Write the header row\n",
        "          \"\"\"\n",
        "          - product_id: \n",
        "          - spid: id của item\n",
        "          \"\"\"\n",
        "          csv_writer.writerow(['product_id', 'spid'])\n",
        "\n",
        "          # Assuming data is a list of dictionaries with the keys 'product_id' and 'spid'\n",
        "          print(page_number)\n",
        "          for item in all_data:\n",
        "            # print(\"product_id: \", item['id'])\n",
        "            # print(\"spid: \", item['seller_product_id'])\n",
        "            csv_writer.writerow([item['id'], item['seller_product_id']])\n",
        "\n",
        "  else:\n",
        "      print(\"Failed to retrieve data. Status code:\", response.status_code)\n",
        "\n",
        "\n",
        "\n",
        "for page_number in range(1,25):\n",
        "  crawl_id_datas(page_number)\n"
      ]
    },
    {
      "cell_type": "code",
      "execution_count": null,
      "metadata": {
        "colab": {
          "base_uri": "https://localhost:8080/"
        },
        "id": "O3aqi9NWJDUS",
        "outputId": "a01d6629-6b87-4262-ce55-2021a5588d76"
      },
      "outputs": [
        {
          "name": "stdout",
          "output_type": "stream",
          "text": [
            "Files merged successfully.\n"
          ]
        },
        {
          "name": "stderr",
          "output_type": "stream",
          "text": [
            "<ipython-input-24-6d7df9aa7e86>:61: FutureWarning: The frame.append method is deprecated and will be removed from pandas in a future version. Use pandas.concat instead.\n",
            "  merged_data = merged_data.append(df, ignore_index=True)\n",
            "<ipython-input-24-6d7df9aa7e86>:61: FutureWarning: The frame.append method is deprecated and will be removed from pandas in a future version. Use pandas.concat instead.\n",
            "  merged_data = merged_data.append(df, ignore_index=True)\n",
            "<ipython-input-24-6d7df9aa7e86>:61: FutureWarning: The frame.append method is deprecated and will be removed from pandas in a future version. Use pandas.concat instead.\n",
            "  merged_data = merged_data.append(df, ignore_index=True)\n",
            "<ipython-input-24-6d7df9aa7e86>:61: FutureWarning: The frame.append method is deprecated and will be removed from pandas in a future version. Use pandas.concat instead.\n",
            "  merged_data = merged_data.append(df, ignore_index=True)\n",
            "<ipython-input-24-6d7df9aa7e86>:61: FutureWarning: The frame.append method is deprecated and will be removed from pandas in a future version. Use pandas.concat instead.\n",
            "  merged_data = merged_data.append(df, ignore_index=True)\n",
            "<ipython-input-24-6d7df9aa7e86>:61: FutureWarning: The frame.append method is deprecated and will be removed from pandas in a future version. Use pandas.concat instead.\n",
            "  merged_data = merged_data.append(df, ignore_index=True)\n",
            "<ipython-input-24-6d7df9aa7e86>:61: FutureWarning: The frame.append method is deprecated and will be removed from pandas in a future version. Use pandas.concat instead.\n",
            "  merged_data = merged_data.append(df, ignore_index=True)\n",
            "<ipython-input-24-6d7df9aa7e86>:61: FutureWarning: The frame.append method is deprecated and will be removed from pandas in a future version. Use pandas.concat instead.\n",
            "  merged_data = merged_data.append(df, ignore_index=True)\n",
            "<ipython-input-24-6d7df9aa7e86>:61: FutureWarning: The frame.append method is deprecated and will be removed from pandas in a future version. Use pandas.concat instead.\n",
            "  merged_data = merged_data.append(df, ignore_index=True)\n",
            "<ipython-input-24-6d7df9aa7e86>:61: FutureWarning: The frame.append method is deprecated and will be removed from pandas in a future version. Use pandas.concat instead.\n",
            "  merged_data = merged_data.append(df, ignore_index=True)\n",
            "<ipython-input-24-6d7df9aa7e86>:61: FutureWarning: The frame.append method is deprecated and will be removed from pandas in a future version. Use pandas.concat instead.\n",
            "  merged_data = merged_data.append(df, ignore_index=True)\n",
            "<ipython-input-24-6d7df9aa7e86>:61: FutureWarning: The frame.append method is deprecated and will be removed from pandas in a future version. Use pandas.concat instead.\n",
            "  merged_data = merged_data.append(df, ignore_index=True)\n",
            "<ipython-input-24-6d7df9aa7e86>:61: FutureWarning: The frame.append method is deprecated and will be removed from pandas in a future version. Use pandas.concat instead.\n",
            "  merged_data = merged_data.append(df, ignore_index=True)\n",
            "<ipython-input-24-6d7df9aa7e86>:61: FutureWarning: The frame.append method is deprecated and will be removed from pandas in a future version. Use pandas.concat instead.\n",
            "  merged_data = merged_data.append(df, ignore_index=True)\n",
            "<ipython-input-24-6d7df9aa7e86>:61: FutureWarning: The frame.append method is deprecated and will be removed from pandas in a future version. Use pandas.concat instead.\n",
            "  merged_data = merged_data.append(df, ignore_index=True)\n",
            "<ipython-input-24-6d7df9aa7e86>:61: FutureWarning: The frame.append method is deprecated and will be removed from pandas in a future version. Use pandas.concat instead.\n",
            "  merged_data = merged_data.append(df, ignore_index=True)\n",
            "<ipython-input-24-6d7df9aa7e86>:61: FutureWarning: The frame.append method is deprecated and will be removed from pandas in a future version. Use pandas.concat instead.\n",
            "  merged_data = merged_data.append(df, ignore_index=True)\n",
            "<ipython-input-24-6d7df9aa7e86>:61: FutureWarning: The frame.append method is deprecated and will be removed from pandas in a future version. Use pandas.concat instead.\n",
            "  merged_data = merged_data.append(df, ignore_index=True)\n",
            "<ipython-input-24-6d7df9aa7e86>:61: FutureWarning: The frame.append method is deprecated and will be removed from pandas in a future version. Use pandas.concat instead.\n",
            "  merged_data = merged_data.append(df, ignore_index=True)\n",
            "<ipython-input-24-6d7df9aa7e86>:61: FutureWarning: The frame.append method is deprecated and will be removed from pandas in a future version. Use pandas.concat instead.\n",
            "  merged_data = merged_data.append(df, ignore_index=True)\n",
            "<ipython-input-24-6d7df9aa7e86>:61: FutureWarning: The frame.append method is deprecated and will be removed from pandas in a future version. Use pandas.concat instead.\n",
            "  merged_data = merged_data.append(df, ignore_index=True)\n",
            "<ipython-input-24-6d7df9aa7e86>:61: FutureWarning: The frame.append method is deprecated and will be removed from pandas in a future version. Use pandas.concat instead.\n",
            "  merged_data = merged_data.append(df, ignore_index=True)\n",
            "<ipython-input-24-6d7df9aa7e86>:61: FutureWarning: The frame.append method is deprecated and will be removed from pandas in a future version. Use pandas.concat instead.\n",
            "  merged_data = merged_data.append(df, ignore_index=True)\n",
            "<ipython-input-24-6d7df9aa7e86>:61: FutureWarning: The frame.append method is deprecated and will be removed from pandas in a future version. Use pandas.concat instead.\n",
            "  merged_data = merged_data.append(df, ignore_index=True)\n"
          ]
        }
      ],
      "source": [
        "import pandas as pd\n",
        "\n",
        "file_paths = [\n",
        "    'output_data1.csv',\n",
        "    'output_data2.csv',\n",
        "    'output_data3.csv',\n",
        "    'output_data4.csv',\n",
        "    'output_data5.csv',\n",
        "    'output_data6.csv',\n",
        "    'output_data7.csv',\n",
        "    'output_data8.csv',\n",
        "    'output_data9.csv',\n",
        "    'output_data10.csv',\n",
        "    'output_data11.csv',\n",
        "    'output_data12.csv',\n",
        "    'output_data13.csv',\n",
        "    'output_data14.csv',\n",
        "    'output_data15.csv',\n",
        "    'output_data16.csv',\n",
        "    'output_data17.csv',\n",
        "    'output_data18.csv',\n",
        "    'output_data19.csv',\n",
        " \n",
        "    ]\n",
        "\n",
        "merged_data = pd.DataFrame()\n",
        "\n",
        "for file_path in file_paths:\n",
        "    df = pd.read_csv(file_path)\n",
        "\n",
        "    merged_data = merged_data.append(df, ignore_index=True)\n",
        "\n",
        "merged_data.to_csv('merged_output_data.csv', index=False)\n",
        "\n",
        "print(\"Files merged successfully.\")\n"
      ]
    },
    {
      "cell_type": "code",
      "execution_count": null,
      "metadata": {
        "id": "8PskMqridh0e"
      },
      "outputs": [],
      "source": [
        "## định nghĩa hàm lấy data về\n",
        "import requests\n",
        "products = []\n",
        "\n",
        "def get_info_item(product_id, spid):\n",
        "  product_id = product_id\n",
        "  url = 'https://tiki.vn/api/v2/products/' + str(product_id)\n",
        "  params = {\n",
        "      'platform': 'web',\n",
        "      'spid': spid,\n",
        "      'version': 3\n",
        "  }\n",
        "  response = requests.get(url, params=params, headers=headers)\n",
        "\n",
        "  data_an_item = []\n",
        "\n",
        "  if response.status_code == 200:\n",
        "      item = response.json()\n",
        "      # start to get data\n",
        "      data_an_item.append(item['id'])\n",
        "      data_an_item.append(item['name'])\n",
        "      data_an_item.append(item['short_description'])\n",
        "      data_an_item.append(item['price'])\n",
        "      data_an_item.append(item['original_price'])\n",
        "      data_an_item.append(item['discount'])\n",
        "      data_an_item.append(item['discount_rate'])\n",
        "\n",
        "      if 'brand' in item:\n",
        "        data_an_item.append(item['brand']['name'])\n",
        "      else:\n",
        "        data_an_item.append(None)\n",
        "\n",
        "      if 'categories' in item:\n",
        "        data_an_item.append(item['categories']['name'])\n",
        "      else:\n",
        "        category = item['visible_impression_info']['amplitude']['category_l3_name']\n",
        "        data_an_item.append(category) # data_an_item.append(None) print(item['quantity_sold'])\n",
        "\n",
        "      if 'quantity_sold' in item:\n",
        "        data_an_item.append(item['quantity_sold']['value'])\n",
        "      else:\n",
        "        data_an_item.append(None)\n",
        "\n",
        "      products.append(data_an_item)\n",
        "\n",
        "  else:\n",
        "    print(\"Failed to retrieve data. Status code:\", response.status_code)\n"
      ]
    },
    {
      "cell_type": "code",
      "execution_count": null,
      "metadata": {
        "colab": {
          "base_uri": "https://localhost:8080/"
        },
        "id": "3sMgQ6tBsOk2",
        "outputId": "9c21ccdc-469f-4bc3-e1a0-4ef3bc89fd1d"
      },
      "outputs": [
        {
          "data": {
            "text/plain": [
              "(2015, 2)"
            ]
          },
          "execution_count": 11,
          "metadata": {},
          "output_type": "execute_result"
        }
      ],
      "source": [
        "df_data = pd.read_csv('/content/nha-sach-tiki.csv')\n",
        "df_data.shape"
      ]
    },
    {
      "cell_type": "code",
      "execution_count": null,
      "metadata": {
        "colab": {
          "base_uri": "https://localhost:8080/"
        },
        "id": "S0XGefsWdwBp",
        "outputId": "66d8e598-187d-49fc-ef63-7d9ed6c652a9"
      },
      "outputs": [
        {
          "name": "stdout",
          "output_type": "stream",
          "text": [
            "1909\n",
            "1910\n",
            "1911\n",
            "1912\n",
            "1913\n",
            "1914\n",
            "1915\n",
            "1916\n",
            "1917\n",
            "1918\n",
            "1919\n",
            "1920\n",
            "1921\n",
            "1922\n",
            "1923\n",
            "1924\n",
            "1925\n",
            "1926\n",
            "1927\n",
            "1928\n",
            "1929\n",
            "1930\n",
            "1931\n",
            "1932\n",
            "1933\n",
            "1934\n",
            "1935\n",
            "1936\n",
            "1937\n",
            "1938\n",
            "1939\n",
            "1940\n",
            "1941\n",
            "1942\n",
            "1943\n",
            "1944\n",
            "1945\n",
            "1946\n",
            "1947\n",
            "1948\n",
            "1949\n",
            "1950\n",
            "1951\n",
            "1952\n",
            "1953\n",
            "1954\n",
            "1955\n",
            "1956\n",
            "1957\n",
            "1958\n",
            "1959\n",
            "1960\n",
            "1961\n",
            "1962\n",
            "1963\n",
            "1964\n",
            "1965\n",
            "1966\n",
            "1967\n",
            "1968\n",
            "1969\n",
            "1970\n",
            "1971\n",
            "1972\n",
            "1973\n",
            "1974\n",
            "1975\n",
            "1976\n",
            "1977\n",
            "1978\n",
            "1979\n",
            "1980\n",
            "1981\n",
            "1982\n",
            "1983\n",
            "1984\n",
            "1985\n",
            "1986\n",
            "1987\n",
            "1988\n",
            "1989\n",
            "1990\n",
            "1991\n",
            "1992\n",
            "1993\n",
            "1994\n",
            "1995\n",
            "1996\n",
            "1997\n",
            "1998\n",
            "1999\n",
            "2000\n",
            "2001\n",
            "2002\n",
            "2003\n",
            "2004\n",
            "2005\n",
            "2006\n",
            "2007\n",
            "2008\n",
            "2009\n",
            "2010\n",
            "2011\n",
            "2012\n",
            "2013\n",
            "2014\n"
          ]
        }
      ],
      "source": [
        "for index in range(1909, len(df_data)):\n",
        "\n",
        "    print(index)\n",
        "    row = df_data.iloc[index]\n",
        "    get_info_item(row['product_id'], row['spid'])"
      ]
    },
    {
      "cell_type": "code",
      "execution_count": null,
      "metadata": {
        "colab": {
          "base_uri": "https://localhost:8080/"
        },
        "id": "0UT50AYt3JOS",
        "outputId": "fc993c63-f179-4e23-d649-a6a920bfe979"
      },
      "outputs": [
        {
          "name": "stdout",
          "output_type": "stream",
          "text": [
            "Đã lưu dữ liệu vào tệp products.csv\n"
          ]
        }
      ],
      "source": [
        "## lấy file products ra\n",
        "import csv\n",
        "\n",
        "# Nhãn cho các trường\n",
        "field_labels = [\"id\", \"name\", \"mota\", \"price\", \"original_price\", \"discount\", \"discount_rate\", \"brand\", \"category\", 'n_sold']\n",
        "\n",
        "\n",
        "# Tên của tệp CSV bạn muốn tạo\n",
        "csv_file_path = \"products.csv\"\n",
        "\n",
        "# Mở tệp CSV để ghi\n",
        "with open(csv_file_path, mode=\"w\", newline=\"\", encoding=\"utf-8\") as csv_file:\n",
        "    # Tạo đối tượng CSV writer\n",
        "    writer = csv.writer(csv_file)\n",
        "\n",
        "    # Viết dòng tiêu đề chứa nhãn của các trường\n",
        "    writer.writerow(field_labels)\n",
        "\n",
        "    # Viết dữ liệu vào tệp\n",
        "    writer.writerows(products)\n",
        "\n",
        "print(f\"Đã lưu dữ liệu vào tệp {csv_file_path}\")\n"
      ]
    },
    {
      "cell_type": "code",
      "execution_count": null,
      "metadata": {
        "colab": {
          "base_uri": "https://localhost:8080/"
        },
        "id": "6uuJzAYmIcQr",
        "outputId": "b1a37308-5a8e-42dc-8892-fb8af4849eb3"
      },
      "outputs": [
        {
          "name": "stdout",
          "output_type": "stream",
          "text": [
            "Các hàng trùng lặp đã được loại bỏ và lưu vào tệp 'output_file.csv'.\n"
          ]
        }
      ],
      "source": [
        "import pandas as pd\n",
        "\n",
        "df = pd.read_csv('/content/dien-gia-dung.csv')\n",
        "\n",
        "# Loại bỏ các hàng trùng lặp dựa trên tất cả các cột\n",
        "df_no_duplicates = df.drop_duplicates()\n",
        "\n",
        "# Lưu DataFrame sau khi loại bỏ trùng lặp ra một tệp CSV mới (thay thế 'output_file.csv' bằng tên tệp mong muốn)\n",
        "df_no_duplicates.to_csv('output_file_dien_gia_dung.csv', index=False)\n",
        "\n",
        "print(\"Các hàng trùng lặp đã được loại bỏ và lưu vào tệp 'output_file.csv'.\")\n"
      ]
    },
    {
      "cell_type": "code",
      "execution_count": null,
      "metadata": {
        "colab": {
          "base_uri": "https://localhost:8080/"
        },
        "id": "e61VbMpTq20_",
        "outputId": "2263c64c-384b-43b0-be08-daa2a7df8ede"
      },
      "outputs": [
        {
          "data": {
            "text/plain": [
              "(901, 10)"
            ]
          },
          "execution_count": 22,
          "metadata": {},
          "output_type": "execute_result"
        }
      ],
      "source": [
        "df_1 = pd.read_csv('/content/products-1.csv')\n",
        "df_2 = pd.read_csv('/content/products-2.csv')\n",
        "df_no_duplicates = df_1.drop_duplicates()\n",
        "df2_no_duplicates = df_2.drop_duplicates()\n",
        "df_2.shape"
      ]
    },
    {
      "cell_type": "code",
      "execution_count": null,
      "metadata": {
        "colab": {
          "base_uri": "https://localhost:8080/"
        },
        "id": "4gGmHqK6rntv",
        "outputId": "b5f8e36f-cee8-44bd-e503-ac90efabd028"
      },
      "outputs": [
        {
          "data": {
            "text/plain": [
              "(901, 10)"
            ]
          },
          "execution_count": 23,
          "metadata": {},
          "output_type": "execute_result"
        }
      ],
      "source": [
        "df2_no_duplicates.shape"
      ]
    }
  ],
  "metadata": {
    "accelerator": "GPU",
    "colab": {
      "gpuType": "T4",
      "provenance": []
    },
    "kernelspec": {
      "display_name": "Python 3",
      "name": "python3"
    },
    "language_info": {
      "name": "python"
    }
  },
  "nbformat": 4,
  "nbformat_minor": 0
}
